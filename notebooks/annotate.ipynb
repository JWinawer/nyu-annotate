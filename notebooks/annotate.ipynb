{
 "cells": [
  {
   "cell_type": "markdown",
   "metadata": {},
   "source": [
    "# Cortical Annotation Tool"
   ]
  },
  {
   "cell_type": "markdown",
   "metadata": {},
   "source": [
    "## How to Use this Tool"
   ]
  },
  {
   "cell_type": "markdown",
   "metadata": {},
   "source": [
    "This section should document how to use the annotation tool, generally."
   ]
  },
  {
   "cell_type": "markdown",
   "metadata": {},
   "source": [
    "## What to Annotate"
   ]
  },
  {
   "cell_type": "markdown",
   "metadata": {},
   "source": [
    "This section should contain instructions for the specific contours or boundaries that are being drawn using the tool as part of the current annotation project.\n",
    "\n",
    "The annotation tool is designed to be a general crowd-source tool for annotating the cortical surface. It is generally recommended to include some amount of instructions for anyone annotating cortices both to explain to the raters how annotations should be drawn and to document how the annotations were drawn for future researchers."
   ]
  },
  {
   "cell_type": "markdown",
   "metadata": {},
   "source": [
    "## The Annotation Tool"
   ]
  },
  {
   "cell_type": "code",
   "execution_count": null,
   "metadata": {},
   "outputs": [],
   "source": [
    "# This cell starts the Annotation Tool.\n",
    "#\n",
    "# All cells in this notebook are run auotmatically when the notebook starts in\n",
    "# the docker container (if you are running this outside of the docker container\n",
    "# you are on your own), and all input cells are automatically hidden from the\n",
    "# user.\n",
    "#\n",
    "# First, we configure a few things (these are set up to work inside of the\n",
    "# docker container).\n",
    "config_path = '/config'\n",
    "cache_path  = '/cache/tool'\n",
    "# Next, import the tool from the annotation library.\n",
    "from annotate import AnnotationTool\n",
    "# Then, we just start the tool.\n",
    "AnnotationTool(config_path, cache_path=cache_path)"
   ]
  }
 ],
 "metadata": {
  "kernelspec": {
   "display_name": "Python 3",
   "language": "python",
   "name": "python3"
  },
  "language_info": {
   "codemirror_mode": {
    "name": "ipython",
    "version": 3
   },
   "file_extension": ".py",
   "mimetype": "text/x-python",
   "name": "python",
   "nbconvert_exporter": "python",
   "pygments_lexer": "ipython3",
   "version": "3.6.9"
  }
 },
 "nbformat": 4,
 "nbformat_minor": 5
}
